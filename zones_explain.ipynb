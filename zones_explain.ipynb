{
 "cells": [
  {
   "cell_type": "code",
   "execution_count": 38,
   "metadata": {
    "collapsed": true
   },
   "outputs": [],
   "source": [
    "import pyspark.sql.functions as F\n",
    "from pyspark.sql import SparkSession\n",
    "\n",
    "spark = SparkSession.builder \\\n",
    "    .master(\"local\") \\\n",
    "    .appName(\"Example\") \\\n",
    "    .getOrCreate()"
   ]
  },
  {
   "cell_type": "markdown",
   "source": [
    "Генерируем простой датасет"
   ],
   "metadata": {
    "collapsed": false
   }
  },
  {
   "cell_type": "code",
   "execution_count": 39,
   "outputs": [],
   "source": [
    "import datetime\n",
    "\n",
    "start_date = datetime.date(2022, 5, 15)\n",
    "data_set = [(start_date + datetime.timedelta(days=i), 1) for i in range(60)]"
   ],
   "metadata": {
    "collapsed": false
   }
  },
  {
   "cell_type": "markdown",
   "source": [
    "Загружаем в датафрейм"
   ],
   "metadata": {
    "collapsed": false
   }
  },
  {
   "cell_type": "code",
   "execution_count": 40,
   "outputs": [
    {
     "name": "stdout",
     "output_type": "stream",
     "text": [
      "+----------+-----+\n",
      "|      date|value|\n",
      "+----------+-----+\n",
      "|2022-05-15|    1|\n",
      "|2022-05-16|    1|\n",
      "|2022-05-17|    1|\n",
      "|2022-05-18|    1|\n",
      "|2022-05-19|    1|\n",
      "|2022-05-20|    1|\n",
      "|2022-05-21|    1|\n",
      "|2022-05-22|    1|\n",
      "|2022-05-23|    1|\n",
      "|2022-05-24|    1|\n",
      "|2022-05-25|    1|\n",
      "|2022-05-26|    1|\n",
      "|2022-05-27|    1|\n",
      "|2022-05-28|    1|\n",
      "|2022-05-29|    1|\n",
      "|2022-05-30|    1|\n",
      "|2022-05-31|    1|\n",
      "|2022-06-01|    1|\n",
      "|2022-06-02|    1|\n",
      "|2022-06-03|    1|\n",
      "+----------+-----+\n",
      "only showing top 20 rows\n",
      "\n"
     ]
    }
   ],
   "source": [
    "df = spark.createDataFrame(data=data_set, schema=[\"date\", \"value\"])\n",
    "df.show()"
   ],
   "metadata": {
    "collapsed": false
   }
  },
  {
   "cell_type": "markdown",
   "source": [
    "Агрегируем по моему варианту"
   ],
   "metadata": {
    "collapsed": false
   }
  },
  {
   "cell_type": "code",
   "execution_count": 41,
   "outputs": [],
   "source": [
    "df_agg = df.withColumn(\"week\", F.date_trunc(\"week\", \"date\")) \\\n",
    "    .withColumn(\"month\", F.date_trunc(\"month\", \"date\")) \\\n",
    "    .groupBy(\"month\", \"week\").agg(F.sum(\"value\").alias(\"sum\")) \\\n",
    "    .orderBy(\"week\")"
   ],
   "metadata": {
    "collapsed": false
   }
  },
  {
   "cell_type": "markdown",
   "source": [
    "Обрати внимание на границы месяцев"
   ],
   "metadata": {
    "collapsed": false
   }
  },
  {
   "cell_type": "code",
   "execution_count": 42,
   "outputs": [
    {
     "name": "stdout",
     "output_type": "stream",
     "text": [
      "+-------------------+-------------------+---+\n",
      "|              month|               week|sum|\n",
      "+-------------------+-------------------+---+\n",
      "|2022-05-01 00:00:00|2022-05-09 00:00:00|  1|\n",
      "|2022-05-01 00:00:00|2022-05-16 00:00:00|  7|\n",
      "|2022-05-01 00:00:00|2022-05-23 00:00:00|  7|\n",
      "|2022-05-01 00:00:00|2022-05-30 00:00:00|  2|\n",
      "|2022-06-01 00:00:00|2022-05-30 00:00:00|  5|\n",
      "|2022-06-01 00:00:00|2022-06-06 00:00:00|  7|\n",
      "|2022-06-01 00:00:00|2022-06-13 00:00:00|  7|\n",
      "|2022-06-01 00:00:00|2022-06-20 00:00:00|  7|\n",
      "|2022-06-01 00:00:00|2022-06-27 00:00:00|  4|\n",
      "|2022-07-01 00:00:00|2022-06-27 00:00:00|  3|\n",
      "|2022-07-01 00:00:00|2022-07-04 00:00:00|  7|\n",
      "|2022-07-01 00:00:00|2022-07-11 00:00:00|  3|\n",
      "+-------------------+-------------------+---+\n",
      "\n"
     ]
    }
   ],
   "source": [
    "df_agg.show()"
   ],
   "metadata": {
    "collapsed": false
   }
  },
  {
   "cell_type": "markdown",
   "source": [
    "Тестируем группировку по месяцам"
   ],
   "metadata": {
    "collapsed": false
   }
  },
  {
   "cell_type": "code",
   "execution_count": 43,
   "outputs": [
    {
     "name": "stdout",
     "output_type": "stream",
     "text": [
      "+-------------------+--------+\n",
      "|              month|sum(sum)|\n",
      "+-------------------+--------+\n",
      "|2022-05-01 00:00:00|      17|\n",
      "|2022-06-01 00:00:00|      30|\n",
      "|2022-07-01 00:00:00|      13|\n",
      "+-------------------+--------+\n",
      "\n"
     ]
    }
   ],
   "source": [
    "df_agg.groupBy(\"month\").agg(F.sum(\"sum\")).orderBy(\"month\").show()"
   ],
   "metadata": {
    "collapsed": false
   }
  },
  {
   "cell_type": "markdown",
   "source": [
    "Тестируем группировку по неделям"
   ],
   "metadata": {
    "collapsed": false
   }
  },
  {
   "cell_type": "code",
   "execution_count": 44,
   "outputs": [
    {
     "name": "stdout",
     "output_type": "stream",
     "text": [
      "+-------------------+--------+\n",
      "|               week|sum(sum)|\n",
      "+-------------------+--------+\n",
      "|2022-05-09 00:00:00|       1|\n",
      "|2022-05-16 00:00:00|       7|\n",
      "|2022-05-23 00:00:00|       7|\n",
      "|2022-05-30 00:00:00|       7|\n",
      "|2022-06-06 00:00:00|       7|\n",
      "|2022-06-13 00:00:00|       7|\n",
      "|2022-06-20 00:00:00|       7|\n",
      "|2022-06-27 00:00:00|       7|\n",
      "|2022-07-04 00:00:00|       7|\n",
      "|2022-07-11 00:00:00|       3|\n",
      "+-------------------+--------+\n",
      "\n"
     ]
    }
   ],
   "source": [
    "df_agg.groupBy(\"week\").agg(F.sum(\"sum\")).orderBy(\"week\").show()"
   ],
   "metadata": {
    "collapsed": false
   }
  }
 ],
 "metadata": {
  "kernelspec": {
   "display_name": "Python 3",
   "language": "python",
   "name": "python3"
  },
  "language_info": {
   "codemirror_mode": {
    "name": "ipython",
    "version": 2
   },
   "file_extension": ".py",
   "mimetype": "text/x-python",
   "name": "python",
   "nbconvert_exporter": "python",
   "pygments_lexer": "ipython2",
   "version": "2.7.6"
  }
 },
 "nbformat": 4,
 "nbformat_minor": 0
}
